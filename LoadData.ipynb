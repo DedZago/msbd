{
 "cells": [
  {
   "cell_type": "code",
   "execution_count": null,
   "metadata": {},
   "outputs": [],
   "source": [
    "%load_ext autoreload\n",
    "%autoreload 2"
   ]
  },
  {
   "cell_type": "code",
   "execution_count": null,
   "metadata": {},
   "outputs": [],
   "source": [
    "import pandas as pd\n",
    "import numpy as np\n",
    "import glob # lista di files in formato *.estensione\n",
    "import matplotlib.pyplot as plt\n",
    "from PIL import Image # import immagine e trasforma in black-white"
   ]
  },
  {
   "cell_type": "code",
   "execution_count": null,
   "metadata": {},
   "outputs": [],
   "source": [
    "PATH_DATA = \"./hasy-data/\"\n",
    "FILES = glob.glob(PATH_DATA + \"*.png\") # lista di tutte le immagini nella cartella"
   ]
  },
  {
   "cell_type": "code",
   "execution_count": null,
   "metadata": {},
   "outputs": [],
   "source": [
    "# Importa label delle immagini\n",
    "labels = pd.read_csv(\"./hasy-data-labels.csv\")\n",
    "y = labels.latex\n",
    "y.to_pickle(\"./y.pkl\")"
   ]
  },
  {
   "cell_type": "code",
   "execution_count": null,
   "metadata": {},
   "outputs": [],
   "source": [
    "cols = [\"pixel_\" + str(i) + \"_\" + str(j) for i in range(32) for j in range(32)] # colonne: pixel_x_y\n",
    "\n",
    "dati = np.empty((len(FILES), 1024), dtype = int)\n",
    "for i in range(len(FILES)):\n",
    "    dati[i] = np.array(Image.open(FILES[i]).convert(\"1\")).reshape(1,1024)\n",
    "    if not i%1000:\n",
    "        print(i)\n",
    "dati = pd.DataFrame(dati, columns = cols)"
   ]
  },
  {
   "cell_type": "code",
   "execution_count": null,
   "metadata": {},
   "outputs": [],
   "source": [
    "# Trasformo dati in 1 == nero, 0 == bianco\n",
    "dati = 1 - dati"
   ]
  },
  {
   "cell_type": "code",
   "execution_count": null,
   "metadata": {},
   "outputs": [],
   "source": [
    "dati.to_pickle(\"./dati.pkl\")"
   ]
  }
 ],
 "metadata": {
  "kernelspec": {
   "display_name": "Python 3",
   "language": "python",
   "name": "python3"
  },
  "language_info": {
   "codemirror_mode": {
    "name": "ipython",
    "version": 3
   },
   "file_extension": ".py",
   "mimetype": "text/x-python",
   "name": "python",
   "nbconvert_exporter": "python",
   "pygments_lexer": "ipython3",
   "version": "3.6.7"
  }
 },
 "nbformat": 4,
 "nbformat_minor": 2
}

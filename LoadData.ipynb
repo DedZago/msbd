{
 "cells": [
  {
   "cell_type": "markdown",
   "metadata": {},
   "source": [
    " ## Table Of Contents\n",
    " 1. [Caricamento dei dati](#load)<br>\n",
    "     1.1 [Grafici di esempio](#esempi)\n",
    " 2. [Calcolo delle variabili di riassunto](#variabili)"
   ]
  },
  {
   "cell_type": "code",
   "execution_count": 2,
   "metadata": {},
   "outputs": [],
   "source": [
    "%load_ext autoreload\n",
    "%autoreload 2"
   ]
  },
  {
   "cell_type": "code",
   "execution_count": 3,
   "metadata": {},
   "outputs": [],
   "source": [
    "# Funzioni base:\n",
    "import pandas as pd\n",
    "import numpy as np\n",
    "import matplotlib.pyplot as plt\n",
    "import os\n",
    "import seaborn as sns\n",
    "import tqdm\n",
    "\n",
    "# Font di LaTeX\n",
    "# from matplotlib import rc\n",
    "\n",
    "# Scikit-Learn\n",
    "from sklearn.model_selection import train_test_split, ParameterGrid\n",
    "from sklearn.decomposition import PCA, FastICA\n",
    "from sklearn.discriminant_analysis import QuadraticDiscriminantAnalysis, LinearDiscriminantAnalysis\n",
    "from sklearn.manifold import TSNE\n",
    "from sklearn.metrics import accuracy_score, confusion_matrix\n",
    "from sklearn.dummy import DummyClassifier\n",
    "from sklearn.linear_model import LogisticRegression\n",
    "from sklearn.tree import DecisionTreeClassifier, export_graphviz\n",
    "import graphviz\n",
    "# Funzioni custom\n",
    "from funzioni import AbsMeanVarDeriv, Whiten,ScatterGroup, MatriceConfusione, indice_gini\n",
    "from funzioni import tasso_errata_classificazione, grafico_metrica_iperparametro, grafico_metrica_iperparametri\n",
    "from funzioni.grafici import grafico_importanza_variabili"
   ]
  },
  {
   "cell_type": "markdown",
   "metadata": {},
   "source": [
    "# 1. Caricamento dei dati <a id=load> </a>"
   ]
  },
  {
   "cell_type": "code",
   "execution_count": null,
   "metadata": {},
   "outputs": [],
   "source": [
    "PATH_DATA = './PhonePi/data/'\n",
    "FIG_PATH = './figure/'\n",
    "DIR = [os.path.join(PATH_DATA, o) for o in os.listdir(PATH_DATA) \n",
    "                    if os.path.isdir(os.path.join(PATH_DATA,o))]\n",
    "tipo=[(dir.split(\"/\")[-1]).split(\".\")[0] for dir in DIR]\n",
    "tipo=[dir.split(\"-\")[0] for dir in tipo]"
   ]
  },
  {
   "cell_type": "code",
   "execution_count": null,
   "metadata": {},
   "outputs": [],
   "source": [
    "p = 150 # numero osservazioni per intervallo\n",
    "nomi_colonna=[\"user\",\"azione\"]\n",
    "nomi_colonna.extend([\"a\"+str(i) for i in range(p)])\n",
    "nomi_colonna\n",
    "X=pd.DataFrame(columns=nomi_colonna)\n",
    "\n",
    "for i in tqdm.tqdm(range(len(DIR))):\n",
    "    data = pd.read_csv(DIR[i] + \"/accelerometer.txt\", names = [\"user\", \"type\", \"t\", \"ax\", \"ay\", \"az\"]) # lettura dati\n",
    "    data[\"t\"] = data[\"t\"] - data[\"t\"].iloc[0] # t0 = 0\n",
    "    data = data[(data[\"t\"] > 7000) & (data[\"t\"] < (data[\"t\"].max()-7000))] # tolti i primi e ultimi 7 secondi\n",
    "    data.reset_index(drop=True, inplace=True) # ripristinati gli indici da 0 in avanti\n",
    "    data[\"a\"] = (pd.to_numeric(data[\"ax\"])**2 + pd.to_numeric(data[\"ay\"])**2 + pd.to_numeric(data[\"az\"])**2)**0.5 # accelerazione in modulo\n",
    "    nome = [data.user[j] for j in range(0,len(data)-p, p)] # intervalli di dt*100ms\n",
    "    tipologia=[tipo[i]]*len(nome)\n",
    "    righe=[[nome[j],tipologia[j]] for j in range(len(nome))]\n",
    "    [righe[j].extend(list(data.a[j*p:(j+1)*p])) for j in range(len(nome))]\n",
    "    X=pd.concat([X,pd.DataFrame(righe,columns=nomi_colonna)],ignore_index=True) # ignore_index=T per avere indici consecutivi"
   ]
  },
  {
   "cell_type": "markdown",
   "metadata": {},
   "source": [
    "## 1.1 Grafici di esempio <a id=esempi> </a>"
   ]
  },
  {
   "cell_type": "code",
   "execution_count": null,
   "metadata": {},
   "outputs": [],
   "source": [
    "DIRM = ['./PhonePi/data/scale-martina',\n",
    "        './PhonePi/data/salti-daniele',\n",
    "        './PhonePi/data/shake-anna',\n",
    "        './PhonePi/data/corsa_tasca-alberto'\n",
    "       ]\n",
    "loc = [1,2,3,4]\n",
    "plt.figure(figsize=(7.5*len(DIRM),5.5*len(DIRM)))\n",
    "for i in range(4):\n",
    "    data = pd.read_csv(DIRM[i] + \"/accelerometer.txt\", names = [\"user\", \"type\", \"t\", \"ax\", \"ay\", \"az\"])\n",
    "    data[\"t\"] = data[\"t\"] - data[\"t\"].iloc[0]\n",
    "    data = data[(data[\"t\"] > 7000) & (data[\"t\"] < (data[\"t\"].max()-7000))]\n",
    "    data[\"a\"] = (pd.to_numeric(data[\"ax\"])**2 + pd.to_numeric(data[\"ay\"])**2 + pd.to_numeric(data[\"az\"])**2)**0.5 # accelerazione in modulo\n",
    "    ax = plt.subplot(2, 2, i+1 , ylim=(0,120), xlim = (10000,30000))\n",
    "    ax.set_ylabel(r\"$\\|\\|a\\|\\|\\;(\\mathrm{ m/s}^2)$\", rotation=0)\n",
    "    ax.yaxis.set_label_coords(-0.1,0.7)\n",
    "    ax.set_xlabel(r\"$t \\;(\\mathrm{ ms})$\")\n",
    "    ax.set_title((DIRM[i].split(\"/\")[-1]).split(\"-\")[0])\n",
    "    plt.plot(data[\"t\"],data[\"a\"])\n",
    "    plt.savefig(FIG_PATH+\"espl.png\", dpi=150)\n",
    "plt.show()"
   ]
  },
  {
   "cell_type": "markdown",
   "metadata": {},
   "source": [
    "# 2. Calcolo delle variabili di riassunto <a id=variabili> </a>"
   ]
  },
  {
   "cell_type": "code",
   "execution_count": null,
   "metadata": {},
   "outputs": [],
   "source": [
    "y = X.azione\n",
    "X.drop(\"azione\", axis=1, inplace=True)\n",
    "Xnum = X.drop(\"user\", axis=1)"
   ]
  },
  {
   "cell_type": "code",
   "execution_count": null,
   "metadata": {},
   "outputs": [],
   "source": [
    "maxA = Xnum.max(1) # massimo accelerazione\n",
    "MVDeriv = AbsMeanVarDeriv(Xnum, 10) # variazione media della derivata\n",
    "meanA = Xnum.mean(axis=1)\n",
    "varA = Xnum.var(axis=1)\n",
    "medA = Xnum.median(axis=1)\n",
    "minA = Xnum.min(axis=1)"
   ]
  },
  {
   "cell_type": "code",
   "execution_count": null,
   "metadata": {},
   "outputs": [],
   "source": [
    "espl = pd.concat([maxA, MVDeriv, meanA, varA, medA, minA], axis=1)\n",
    "espl.columns=[\"maxA\", \"MVDeriv\", \"meanA\", \"varA\", \"medA\", \"minA\"]"
   ]
  },
  {
   "cell_type": "code",
   "execution_count": null,
   "metadata": {},
   "outputs": [],
   "source": [
    "X.to_pickle(\"X-2s.pkl\")\n",
    "y.to_pickle(\"y-2s.pkl\")\n",
    "espl.to_pickle(\"espl.pkl\")"
   ]
  },
  {
   "cell_type": "code",
   "execution_count": null,
   "metadata": {},
   "outputs": [],
   "source": [
    "#per luisa\n",
    "X.to_csv(\"X-2s.csv\")\n",
    "y.to_csv(\"y-2s.csv\")\n",
    "espl.to_csv(\"espl.csv\")"
   ]
  },
  {
   "cell_type": "code",
   "execution_count": null,
   "metadata": {},
   "outputs": [],
   "source": [
    "X_train, X_val, y_train, y_val = train_test_split(espl, y, test_size=0.25, random_state=42)"
   ]
  },
  {
   "cell_type": "code",
   "execution_count": null,
   "metadata": {},
   "outputs": [],
   "source": [
    "X_train.to_pickle(\"X_train.pkl\")\n",
    "X_val.to_pickle(\"X_val.pkl\")\n",
    "y_train.to_pickle(\"y_train.pkl\")\n",
    "y_val.to_pickle(\"y_val.pkl\")"
   ]
  },
  {
   "cell_type": "code",
   "execution_count": 4,
   "metadata": {},
   "outputs": [],
   "source": [
    "PATH_TEST = './PhonePi/test/'\n",
    "DIR = [os.path.join(PATH_TEST, o) for o in os.listdir(PATH_TEST) \n",
    "                    if os.path.isdir(os.path.join(PATH_TEST,o))]\n",
    "tipo=[(dir.split(\"/\")[-1]).split(\".\")[0] for dir in DIR]\n",
    "tipo=[dir.split(\"-\")[0] for dir in tipo]"
   ]
  },
  {
   "cell_type": "code",
   "execution_count": 6,
   "metadata": {},
   "outputs": [
    {
     "name": "stderr",
     "output_type": "stream",
     "text": [
      "100%|██████████████████████████████████████████| 8/8 [00:01<00:00,  7.05it/s]\n"
     ]
    }
   ],
   "source": [
    "p = 150 # numero osservazioni per intervallo\n",
    "nomi_colonna=[\"user\",\"azione\"]\n",
    "nomi_colonna.extend([\"a\"+str(i) for i in range(p)])\n",
    "nomi_colonna\n",
    "X_test=pd.DataFrame(columns=nomi_colonna)\n",
    "\n",
    "for i in tqdm.tqdm(range(len(DIR))):\n",
    "    data = pd.read_csv(DIR[i] + \"/accelerometer.txt\", names = [\"user\", \"type\", \"t\", \"ax\", \"ay\", \"az\"]) # lettura dati\n",
    "    data[\"t\"] = data[\"t\"] - data[\"t\"].iloc[0] # t0 = 0\n",
    "    data = data[(data[\"t\"] > 7000) & (data[\"t\"] < (data[\"t\"].max()-7000))] # tolti i primi e ultimi 7 secondi\n",
    "    data.reset_index(drop=True, inplace=True) # ripristinati gli indici da 0 in avanti\n",
    "    data[\"a\"] = (pd.to_numeric(data[\"ax\"])**2 + pd.to_numeric(data[\"ay\"])**2 + pd.to_numeric(data[\"az\"])**2)**0.5 # accelerazione in modulo\n",
    "    nome = [data.user[j] for j in range(0,len(data)-p, p)] # intervalli di dt*100ms\n",
    "    tipologia=[tipo[i]]*len(nome)\n",
    "    righe=[[nome[j],tipologia[j]] for j in range(len(nome))]\n",
    "    [righe[j].extend(list(data.a[j*p:(j+1)*p])) for j in range(len(nome))]\n",
    "    X_test=pd.concat([X_test,pd.DataFrame(righe,columns=nomi_colonna)],ignore_index=True) # ignore_index=T per avere indici consecutivi"
   ]
  },
  {
   "cell_type": "code",
   "execution_count": 10,
   "metadata": {},
   "outputs": [],
   "source": [
    "y_test = X_test.azione\n",
    "X_test.drop(\"azione\", axis=1, inplace=True)\n",
    "Xnum = X_test.drop(\"user\", axis=1)"
   ]
  },
  {
   "cell_type": "code",
   "execution_count": 12,
   "metadata": {},
   "outputs": [],
   "source": [
    "maxA = Xnum.max(1) # massimo accelerazione\n",
    "MVDeriv = AbsMeanVarDeriv(Xnum, 10) # variazione media della derivata\n",
    "meanA = Xnum.mean(axis=1)\n",
    "varA = Xnum.var(axis=1)\n",
    "medA = Xnum.median(axis=1)\n",
    "minA = Xnum.min(axis=1)"
   ]
  },
  {
   "cell_type": "code",
   "execution_count": 13,
   "metadata": {},
   "outputs": [],
   "source": [
    "espl_test = pd.concat([maxA, MVDeriv, meanA, varA, medA, minA], axis=1)\n",
    "espl_test.columns=[\"maxA\", \"MVDeriv\", \"meanA\", \"varA\", \"medA\", \"minA\"]"
   ]
  },
  {
   "cell_type": "code",
   "execution_count": null,
   "metadata": {},
   "outputs": [],
   "source": [
    "y_test.to_pickle(\"y_test.pkl\")\n",
    "espl_test.to_pickle(\"espl_test.pkl\")"
   ]
  }
 ],
 "metadata": {
  "kernelspec": {
   "display_name": "Python 3",
   "language": "python",
   "name": "python3"
  },
  "language_info": {
   "codemirror_mode": {
    "name": "ipython",
    "version": 3
   },
   "file_extension": ".py",
   "mimetype": "text/x-python",
   "name": "python",
   "nbconvert_exporter": "python",
   "pygments_lexer": "ipython3",
   "version": "3.6.7"
  }
 },
 "nbformat": 4,
 "nbformat_minor": 2
}

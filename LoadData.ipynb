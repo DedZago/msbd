{
 "cells": [
  {
   "cell_type": "code",
   "execution_count": null,
   "metadata": {},
   "outputs": [],
   "source": [
    "%load_ext autoreload\n",
    "%autoreload 2"
   ]
  },
  {
   "cell_type": "code",
   "execution_count": null,
   "metadata": {},
   "outputs": [],
   "source": [
    "import pandas as pd\n",
    "import numpy as np\n",
    "import glob # lista di files in formato *.estensione\n",
    "import matplotlib.pyplot as plt\n",
    "import os\n",
    "%matplotlib inline"
   ]
  },
  {
   "cell_type": "code",
   "execution_count": null,
   "metadata": {},
   "outputs": [],
   "source": [
    "PATH_DATA = \"./PhonePi/data/\"\n",
    "FILES = glob.glob(PATH_DATA+\"*\") # lista di tutte le immagini nella cartella\n",
    "FILES[0:2]"
   ]
  },
  {
   "cell_type": "code",
   "execution_count": null,
   "metadata": {
    "scrolled": true
   },
   "outputs": [],
   "source": [
    "PATH_DATA = './PhonePi/data/'\n",
    "DIR = [os.path.join(PATH_DATA, o) for o in os.listdir(PATH_DATA) \n",
    "                    if os.path.isdir(os.path.join(PATH_DATA,o))]\n",
    "\n",
    "plt.figure(figsize=(13,4*len(DIR)))\n",
    "nrow = len(DIR)\n",
    "for i in range(len(DIR)):\n",
    "    data = pd.read_csv(DIR[i] + \"/accelerometer.txt\", names = [\"user\", \"type\", \"t\", \"ax\", \"ay\", \"az\"])\n",
    "    data[\"t\"] = data[\"t\"] - data[\"t\"].iloc[0]\n",
    "    data[(data[\"t\"] > 7000) & (data[\"t\"] < (data[\"t\"].max()-7000))]\n",
    "    data[\"a\"] = (data[\"ax\"]**2 + data[\"ay\"]**2 + data[\"az\"]**2)**0.5\n",
    "    ax = plt.subplot(nrow, 1, i+1, ylim=(0,120))\n",
    "    ax.set_title(DIR[i].split(\"/\")[-1])\n",
    "    plt.plot(data[\"t\"],data[\"a\"])\n",
    "    \n",
    "plt.show()"
   ]
  },
  {
   "cell_type": "code",
   "execution_count": null,
   "metadata": {},
   "outputs": [],
   "source": [
    "plt.figure(figsize=(13,4))\n",
    "data = pd.read_csv(DIR[-1] + \"/accelerometer.txt\", names = [\"user\", \"type\", \"t\", \"ax\", \"ay\", \"az\"])\n",
    "data[\"t\"] = data[\"t\"] - data[\"t\"].iloc[0]\n",
    "data[\"a\"] = (data[\"ax\"]**2 + data[\"ay\"]**2 + data[\"az\"]**2)**0.5\n",
    "plt.plot(data[\"t\"].iloc[0:7000],data[\"a\"].iloc[0:7000])\n",
    "plt.ylim(0,120)\n",
    "plt.show()"
   ]
  },
  {
   "cell_type": "code",
   "execution_count": null,
   "metadata": {},
   "outputs": [],
   "source": [
    "data[(data[\"t\"] > 7000) & (data[\"t\"] < (data[\"t\"].max()-7000))]"
   ]
  }
 ],
 "metadata": {
  "kernelspec": {
   "display_name": "Python 3",
   "language": "python",
   "name": "python3"
  },
  "language_info": {
   "codemirror_mode": {
    "name": "ipython",
    "version": 3
   },
   "file_extension": ".py",
   "mimetype": "text/x-python",
   "name": "python",
   "nbconvert_exporter": "python",
   "pygments_lexer": "ipython3",
   "version": "3.6.7"
  }
 },
 "nbformat": 4,
 "nbformat_minor": 2
}

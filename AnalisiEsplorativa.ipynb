{
 "cells": [
  {
   "cell_type": "code",
   "execution_count": null,
   "metadata": {},
   "outputs": [],
   "source": [
    "%load_ext autoreload\n",
    "%autoreload 2\n",
    "%qtconsole"
   ]
  },
  {
   "cell_type": "code",
   "execution_count": null,
   "metadata": {},
   "outputs": [],
   "source": [
    "import numpy as np\n",
    "import pandas as pd\n",
    "import matplotlib.pyplot as plt\n",
    "import seaborn as sns\n",
    "sns.set(style=\"white\")"
   ]
  },
  {
   "cell_type": "code",
   "execution_count": null,
   "metadata": {},
   "outputs": [],
   "source": [
    "%matplotlib inline"
   ]
  },
  {
   "cell_type": "code",
   "execution_count": null,
   "metadata": {},
   "outputs": [],
   "source": [
    "X = pd.read_pickle(\"./X-2s.pkl\")\n",
    "y = pd.read_pickle(\"./y-2s.pkl\")"
   ]
  },
  {
   "cell_type": "code",
   "execution_count": null,
   "metadata": {},
   "outputs": [],
   "source": [
    "# Variabili numeriche, senza l'utilizzatore\n",
    "Xnum = X.drop(\"user\", axis=1)"
   ]
  },
  {
   "cell_type": "markdown",
   "metadata": {},
   "source": [
    "### Variabili di riassunto\n",
    "Sono state calcolate le seguenti variabili di riassunto del segnale, nell'intervallo ampio 2000 ms di osservazione:\n",
    "1. Integrale del segnale nell'intervallo, calcolato con l'approssimazione per trapezi.\n",
    "2. Massimo dell'accelerazione nell'intervallo.\n",
    "3. Variazione media assoluta della derivata nell'intervallo."
   ]
  },
  {
   "cell_type": "code",
   "execution_count": null,
   "metadata": {},
   "outputs": [],
   "source": [
    "# Funzioni per calcolare variazione media della derivata e sbiancare i dati\n",
    "from funzioni import AbsMeanVarDeriv, Whiten"
   ]
  },
  {
   "cell_type": "code",
   "execution_count": null,
   "metadata": {},
   "outputs": [],
   "source": [
    "intTrapz = pd.DataFrame(np.trapz(Xnum, dx=10)) # integrale con approssimazione per trapezi\n",
    "maxA = Xnum.max(1) # massimo accelerazione\n",
    "MVDeriv = AbsMeanVarDeriv(Xnum, 10) # variazione media della derivata"
   ]
  },
  {
   "cell_type": "code",
   "execution_count": null,
   "metadata": {},
   "outputs": [],
   "source": [
    "# Costruzione del dataframe delle esplicative\n",
    "espl = pd.concat([intTrapz, maxA, MVDeriv], axis=1)\n",
    "espl.columns=[\"intTrapz\", \"maxA\", \"MVDeriv\"]"
   ]
  },
  {
   "cell_type": "markdown",
   "metadata": {},
   "source": [
    "Analisi esplorativa con `PCA`, `ICA`, `t-SNE`."
   ]
  },
  {
   "cell_type": "code",
   "execution_count": null,
   "metadata": {},
   "outputs": [],
   "source": [
    "from sklearn.decomposition import PCA, FastICA\n",
    "from sklearn.manifold import TSNE"
   ]
  },
  {
   "cell_type": "code",
   "execution_count": null,
   "metadata": {},
   "outputs": [],
   "source": [
    "# Sbiancamento dei dati\n",
    "esplWh = Whiten().fit_transform(espl)"
   ]
  },
  {
   "cell_type": "code",
   "execution_count": null,
   "metadata": {},
   "outputs": [],
   "source": [
    "pca = PCA(n_components=2, random_state=42)\n",
    "esplPCA = pca.fit_transform(esplWh)"
   ]
  },
  {
   "cell_type": "code",
   "execution_count": null,
   "metadata": {},
   "outputs": [],
   "source": [
    "ica = FastICA(n_components=2, random_state=42)\n",
    "esplICA = ica.fit_transform(esplWh)"
   ]
  },
  {
   "cell_type": "code",
   "execution_count": null,
   "metadata": {},
   "outputs": [],
   "source": [
    "tsne = TSNE(n_components=2, random_state=42)\n",
    "esplTSNE = tsne.fit_transform(esplWh)"
   ]
  },
  {
   "cell_type": "code",
   "execution_count": null,
   "metadata": {},
   "outputs": [],
   "source": [
    "# Funzione che produce lo scatterplot con i colori per i gruppi dati da y\n",
    "from funzioni import ScatterGroup"
   ]
  },
  {
   "cell_type": "code",
   "execution_count": null,
   "metadata": {},
   "outputs": [],
   "source": [
    "for title,dat in zip([\"PCA\",\"ICA\",\"t-SNE\"], [esplPCA, esplICA, esplTSNE]):\n",
    "    fig, ax = ScatterGroup(pd.DataFrame(dat, columns=[\"Prima componente\", \"Seconda componente\"]),\n",
    "                       grp=y, palette=\"bright\")\n",
    "    fig.set_figwidth(11)\n",
    "    fig.set_figheight(6)\n",
    "    ax.set_title(title)\n",
    "    plt.legend(bbox_to_anchor=(1,0.7))"
   ]
  }
 ],
 "metadata": {
  "kernelspec": {
   "display_name": "Python 3",
   "language": "python",
   "name": "python3"
  },
  "language_info": {
   "codemirror_mode": {
    "name": "ipython",
    "version": 3
   },
   "file_extension": ".py",
   "mimetype": "text/x-python",
   "name": "python",
   "nbconvert_exporter": "python",
   "pygments_lexer": "ipython3",
   "version": "3.6.7"
  }
 },
 "nbformat": 4,
 "nbformat_minor": 2
}

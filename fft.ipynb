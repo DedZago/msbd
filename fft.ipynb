{
 "cells": [
  {
   "cell_type": "code",
   "execution_count": null,
   "metadata": {},
   "outputs": [],
   "source": [
    "%load_ext autoreload\n",
    "%autoreload 2\n",
    "import pandas as pd\n",
    "import numpy as np\n",
    "import glob # lista di files in formato *.estensione\n",
    "import matplotlib.pyplot as plt\n",
    "import os\n",
    "import seaborn as sns"
   ]
  },
  {
   "cell_type": "code",
   "execution_count": null,
   "metadata": {},
   "outputs": [],
   "source": [
    "import tqdm\n",
    "from scipy.fftpack import fft"
   ]
  },
  {
   "cell_type": "code",
   "execution_count": null,
   "metadata": {},
   "outputs": [],
   "source": [
    "X = pd.read_pickle(\"X-2s.pkl\")\n",
    "X = X.drop(\"user\", axis=1)\n",
    "y = pd.read_pickle(\"y-2s.pkl\")\n",
    "espl = pd.read_pickle(\"espl.pkl\")"
   ]
  },
  {
   "cell_type": "code",
   "execution_count": null,
   "metadata": {},
   "outputs": [],
   "source": [
    "T = 10*0.001  # sampling interval \n",
    "N = 200\n",
    "fftX = pd.DataFrame(fft(X))\n",
    "#create new x-axis: frequency from signal\n",
    "xf = np.linspace(0.0, 1.0/T, N//2)\n",
    "#plot results\n",
    "for i in range(fftX.shape[0]):\n",
    "    plt.plot(xf, np.abs(fftX.loc[i,0:N//2-1]) * 1/N, color=\"blue\", alpha=0.007, solid_capstyle=\"butt\")\n",
    "\n",
    "plt.xlabel(\"Frequency [Hz]\")\n",
    "plt.ylabel(\"Amplitude\")\n",
    "plt.grid()"
   ]
  },
  {
   "cell_type": "code",
   "execution_count": null,
   "metadata": {},
   "outputs": [],
   "source": [
    "fftX = fftX.abs()\n",
    "#fftX[\"intTrapz\"] = espl[\"intTrapz\"]\n",
    "#fftX[\"maxA\"] = espl[\"maxA\"]\n",
    "#fftX[\"MVDeriv\"] = espl[\"MVDeriv\"]\n",
    "#fftX[\"meanA\"] = espl[\"meanA\"]\n",
    "fftX.head()"
   ]
  },
  {
   "cell_type": "code",
   "execution_count": null,
   "metadata": {},
   "outputs": [],
   "source": [
    "from funzioni import indice_gini, tasso_errata_classificazione, MatriceConfusione\n",
    "from sklearn.model_selection import train_test_split\n",
    "from sklearn.pipeline import Pipeline\n",
    "from sklearn.metrics import accuracy_score, confusion_matrix\n",
    "from sklearn.tree import DecisionTreeClassifier\n",
    "from sklearn.tree import export_graphviz\n",
    "import graphviz"
   ]
  },
  {
   "cell_type": "code",
   "execution_count": null,
   "metadata": {},
   "outputs": [],
   "source": [
    "X_train, X_val, y_train, y_val = train_test_split(fftX, y, test_size=0.25, random_state=42)"
   ]
  },
  {
   "cell_type": "code",
   "execution_count": null,
   "metadata": {},
   "outputs": [],
   "source": [
    "dtc = Pipeline([ \n",
    "    (\"tree\", DecisionTreeClassifier(random_state=42))\n",
    "])\n",
    "\n",
    "dtc.fit(X_train, y_train)\n",
    "\n",
    "y_pred = dtc.predict(X_val)\n",
    "dtc_acc = accuracy_score(y_val, y_pred)\n",
    "\n",
    "#print('Accuratezza DummyClassifier(\"most_frequent\"): {:.1f}%'.format(100 * dc_acc))\n",
    "print(\"Accuratezza DecisionTreeClassifier(): {:.2f}%\".format(100 * dtc_acc))\n",
    "MatriceConfusione(y_val, y_pred)\n",
    "plt.show()"
   ]
  },
  {
   "cell_type": "code",
   "execution_count": null,
   "metadata": {},
   "outputs": [],
   "source": [
    "from sklearn.model_selection import ParameterGrid\n",
    "import tqdm"
   ]
  },
  {
   "cell_type": "code",
   "execution_count": null,
   "metadata": {},
   "outputs": [],
   "source": [
    "param_grid = ParameterGrid({\n",
    "    'tree__max_depth': np.arange(1, dtc.named_steps[\"tree\"].tree_.max_depth),\n",
    "    'tree__min_samples_leaf': 2 ** np.arange(9),\n",
    "})\n",
    "print(param_grid.param_grid)"
   ]
  },
  {
   "cell_type": "code",
   "execution_count": null,
   "metadata": {},
   "outputs": [],
   "source": [
    "risultati = []\n",
    "\n",
    "for params in tqdm.tqdm(param_grid):\n",
    "    dtc.set_params(**params)\n",
    "    dtc.fit(X_train, y_train)\n",
    "    y_pred = dtc.predict(X_val)\n",
    "    params[\"accuracy_score\"] = accuracy_score(y_val, y_pred)\n",
    "    risultati.append(params)\n",
    "\n",
    "risultati = pd.DataFrame(risultati).sort_values([\"accuracy_score\", \"tree__max_depth\"], ascending=[False, True])\n",
    "risultati.reset_index(drop=True, inplace=True)\n",
    "print(\"Primi 5:\")\n",
    "display(risultati.head())\n",
    "\n",
    "print(\"Ultimi 5:\")\n",
    "risultati.tail()"
   ]
  },
  {
   "cell_type": "code",
   "execution_count": null,
   "metadata": {},
   "outputs": [],
   "source": [
    "from funzioni import grafico_metrica_iperparametro"
   ]
  },
  {
   "cell_type": "code",
   "execution_count": null,
   "metadata": {},
   "outputs": [],
   "source": [
    "max_depth = risultati.loc[0, \"tree__max_depth\"]\n",
    "min_samples_leaf = risultati.loc[0, \"tree__min_samples_leaf\"]\n",
    "\n",
    "dtc_tun = Pipeline([\n",
    "    (\"tree\", DecisionTreeClassifier(max_depth=max_depth, min_samples_leaf=min_samples_leaf, random_state=42))\n",
    "])\n",
    "\n",
    "dtc_tun.fit(X_train, y_train)\n",
    "\n",
    "y_pred = dtc_tun.predict(X_val)\n",
    "dtc_tun_acc = accuracy_score(y_val, y_pred)\n",
    "\n",
    "#print('Accuratezza DummyClassifier(\"most_frequent\"): {:.1f}%'.format(100 * dc_acc))\n",
    "print(\"Accuratezza DecisionTreeClassifier(): {:.1f}%\".format(100 * dtc_acc))\n",
    "print(\"Accuratezza DecisionTreeClassifier(max_depth={}, min_samples_leaf={}): {:.1f}%\".format(\n",
    "    max_depth, min_samples_leaf, 100 * dtc_tun_acc))\n",
    "print(confusion_matrix(y_val, y_pred))\n",
    "MatriceConfusione(y_val, y_pred)\n",
    "plt.show()"
   ]
  },
  {
   "cell_type": "code",
   "execution_count": null,
   "metadata": {},
   "outputs": [],
   "source": [
    "from sklearn.manifold import TSNE\n",
    "from sklearn.decomposition import PCA\n",
    "tsne = TSNE(n_components=2, random_state=42)\n",
    "fftTSNE = tsne.fit_transform(fftX)\n",
    "\n",
    "pca = PCA(n_components=2, random_state=42)\n",
    "fftPCA = pca.fit_transform(fftX)"
   ]
  },
  {
   "cell_type": "code",
   "execution_count": null,
   "metadata": {},
   "outputs": [],
   "source": [
    "from funzioni import ScatterGroup, MatriceConfusione\n",
    "\n",
    "for title,dat in zip([\"PCA\",\"t-SNE\"], [fftPCA, fftTSNE]):\n",
    "    fig, ax = ScatterGroup(pd.DataFrame(dat, columns=[\"Prima componente\", \"Seconda componente\"]),\n",
    "                       grp=y, palette=\"bright\")\n",
    "    fig.set_figwidth(11)\n",
    "    fig.set_figheight(6)\n",
    "    ax.set_title(title)\n",
    "    plt.legend(bbox_to_anchor=(1,0.7))"
   ]
  },
  {
   "cell_type": "code",
   "execution_count": null,
   "metadata": {},
   "outputs": [],
   "source": [
    "from sklearn.discriminant_analysis import LinearDiscriminantAnalysis\n",
    "from sklearn.discriminant_analysis import QuadraticDiscriminantAnalysis"
   ]
  },
  {
   "cell_type": "code",
   "execution_count": null,
   "metadata": {},
   "outputs": [],
   "source": [
    "lda = LinearDiscriminantAnalysis()\n",
    "lda.fit(X_train, y_train)"
   ]
  },
  {
   "cell_type": "code",
   "execution_count": null,
   "metadata": {},
   "outputs": [],
   "source": [
    "y_pred_lda = lda.predict(X_val)\n",
    "print(\"Accuratezza LDA su FT: {:.1f}%\".format(100*accuracy_score(y_val, y_pred_lda)))\n",
    "print(confusion_matrix(y_val, y_pred_lda))\n",
    "MatriceConfusione(y_val, y_pred_lda)\n",
    "plt.show()"
   ]
  },
  {
   "cell_type": "code",
   "execution_count": null,
   "metadata": {},
   "outputs": [],
   "source": [
    "qda = QuadraticDiscriminantAnalysis()\n",
    "\n",
    "qda.fit(X_train, y_train)"
   ]
  },
  {
   "cell_type": "code",
   "execution_count": null,
   "metadata": {},
   "outputs": [],
   "source": [
    "y_pred_qda = qda.predict(X_val)\n",
    "print(\"Accuratezza QDA su FT: {:.1f}%\".format(100*accuracy_score(y_val, y_pred_qda)))\n",
    "print(confusion_matrix(y_val, y_pred_qda))\n",
    "MatriceConfusione(y_val, y_pred_qda)\n",
    "plt.show()"
   ]
  }
 ],
 "metadata": {
  "kernelspec": {
   "display_name": "Python 3",
   "language": "python",
   "name": "python3"
  },
  "language_info": {
   "codemirror_mode": {
    "name": "ipython",
    "version": 3
   },
   "file_extension": ".py",
   "mimetype": "text/x-python",
   "name": "python",
   "nbconvert_exporter": "python",
   "pygments_lexer": "ipython3",
   "version": "3.6.7"
  }
 },
 "nbformat": 4,
 "nbformat_minor": 2
}
